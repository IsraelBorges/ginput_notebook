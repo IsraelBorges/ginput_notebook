{
 "cells": [
  {
   "cell_type": "markdown",
   "metadata": {},
   "source": [
    "\n",
    "# Ginput en Notebook"
   ]
  },
  {
   "cell_type": "code",
   "execution_count": 1,
   "metadata": {},
   "outputs": [],
   "source": [
    "import numpy as np               #http://www.numpy.org\n",
    "from Tkinter import *            #https://docs.python.org/2/library/tkinter.html\n",
    "from PIL import Image,ImageTk    #https://pillow.readthedocs.io/en/latest/"
   ]
  },
  {
   "cell_type": "markdown",
   "metadata": {},
   "source": [
    "Funcion **get__points**. <Br>\n",
    "    Entrada: _nombre_ _ _imagen_ - Nombre de la imagen a la cual se le identificaran los puntos. _String_<Br>\n",
    "    Salida: _points_ - Conjunto de coordenadas (x,y) de los puntos seleccionados. _array_\n",
    "    \n",
    "Function **get__points** <Br>\n",
    "    In: _nombre_ _ _imagen_ - Image name to which the points will be identified. _String_<Br>\n",
    "    Out: _points_ - Set of coordinates (x,y) with the selected points."
   ]
  },
  {
   "cell_type": "code",
   "execution_count": 2,
   "metadata": {},
   "outputs": [],
   "source": [
    "def get_points(nombre_imagen):\n",
    "    #Entrada: Nombre de la imagen de la que se quieren los puntos\n",
    "    X=[];Y=[];\n",
    "    root = Tk()  \n",
    "    root.title(\"display image\")  \n",
    "    im=Image.open(nombre_imagen)  \n",
    "    width, height = im.size\n",
    "    root.geometry(str(width)+\"x\"+str(height))\n",
    "\n",
    "    def callback(event):\n",
    "        print \"clicked at\", event.x, event.y\n",
    "        X.append(event.x);Y.append(event.y)\n",
    "        x1, y1 = (event.x - 2), (event.y - 2)\n",
    "        x2, y2 = (event.x + 2), (event.y + 2)\n",
    "        cv.create_oval(x1, y1, x2, y2, fill='red')\n",
    "\n",
    "    photo=ImageTk.PhotoImage(im) \n",
    "    cv = Canvas()  \n",
    "    cv.pack(side='top', fill='both', expand='yes')  \n",
    "    cv.create_image(0, 0, image=photo, anchor='nw')  \n",
    "    root.bind(\"<Button-1>\", callback)\n",
    "    root.mainloop()\n",
    "    \n",
    "    X=np.array(X); Y=np.array(Y); \n",
    "    points=np.array((X,Y)).T\n",
    "    return (points)\n",
    "    #Salida: Array con las coordenadas (x,y) de los puntos seleccionados"
   ]
  },
  {
   "cell_type": "code",
   "execution_count": 3,
   "metadata": {},
   "outputs": [],
   "source": [
    "n_imagen=\"Smiley1.png\" #Nombre de la imagen para seleccionar puntos"
   ]
  },
  {
   "cell_type": "code",
   "execution_count": 6,
   "metadata": {},
   "outputs": [],
   "source": [
    "puntos=get_points(n_imagen)"
   ]
  },
  {
   "cell_type": "code",
   "execution_count": 7,
   "metadata": {},
   "outputs": [
    {
     "data": {
      "text/plain": [
       "array([], shape=(0, 2), dtype=float64)"
      ]
     },
     "execution_count": 7,
     "metadata": {},
     "output_type": "execute_result"
    }
   ],
   "source": [
    "puntos"
   ]
  },
  {
   "cell_type": "code",
   "execution_count": null,
   "metadata": {},
   "outputs": [],
   "source": []
  }
 ],
 "metadata": {
  "kernelspec": {
   "display_name": "Python 2",
   "language": "python",
   "name": "python2"
  },
  "language_info": {
   "codemirror_mode": {
    "name": "ipython",
    "version": 2
   },
   "file_extension": ".py",
   "mimetype": "text/x-python",
   "name": "python",
   "nbconvert_exporter": "python",
   "pygments_lexer": "ipython2",
   "version": "2.7.13+"
  }
 },
 "nbformat": 4,
 "nbformat_minor": 1
}
